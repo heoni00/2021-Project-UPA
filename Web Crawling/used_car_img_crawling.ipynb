{
 "cells": [
  {
   "cell_type": "code",
   "execution_count": 24,
   "id": "dc9b7a59",
   "metadata": {},
   "outputs": [],
   "source": [
    "def save_img(url, name):\n",
    "        #이미지 url과 저장할 이름을 입력하면 해당 이름으로 저장해주는 함수\n",
    "        #일단 기본은 10mb까지 저장할 수 있게 해둠\n",
    "    import requests\n",
    "    res = requests.get(url)\n",
    "    res.raise_for_status()\n",
    "    img = open(name + '.png', 'wb')\n",
    "\n",
    "    for chunk in res.iter_content(10000000): #byte로 환산해서 얼마만큼 저장해야 하는지 적으면 됨\n",
    "        img.write(chunk)\n",
    "    img.close()"
   ]
  },
  {
   "cell_type": "code",
   "execution_count": 25,
   "id": "17486cb0",
   "metadata": {},
   "outputs": [],
   "source": [
    "import os\n",
    "\n",
    "def createFolder(directory):\n",
    "    try:\n",
    "        if not os.path.exists(directory):\n",
    "            os.makedirs(directory)\n",
    "    except:\n",
    "        print ('Error: Creating directory. ' +  directory)"
   ]
  },
  {
   "cell_type": "code",
   "execution_count": 26,
   "id": "a85575fe",
   "metadata": {},
   "outputs": [],
   "source": [
    "import requests, os, time, random\n",
    "from selenium import webdriver\n",
    "import pandas as pd\n",
    "from tqdm import tqdm_notebook"
   ]
  },
  {
   "cell_type": "code",
   "execution_count": 33,
   "id": "7bf7269b",
   "metadata": {},
   "outputs": [],
   "source": [
    "class StupidSpider:\n",
    "    def __init__(self, pth='chromedriver.exe'):        \n",
    "        options = webdriver.ChromeOptions()\n",
    "        options.add_argument('headless')\n",
    "        options.add_argument('window-size=1920x1080')\n",
    "        options.add_argument(\"user-agent=Mozilla/5.0 (Macintosh; Intel Mac OS X 10_12_6) AppleWebKit/537.36 (KHTML, like Gecko) Chrome/61.0.3163.100 Safari/537.36\")\n",
    "        self.driver = webdriver.Chrome(pth, options=options)\n",
    "        self.driver.maximize_window()\n",
    "    \n",
    "    def move(self, pth):\n",
    "        self.driver.get(pth)\n",
    "        time.sleep(random.randrange(2,4))\n",
    "    \n",
    "    def get(self, xpth):\n",
    "        self.target = self.driver.find_element_by_xpath(xpth)\n",
    "        return self.target\n",
    "    \n",
    "    def gets(self, xpth):\n",
    "        return self.driver.find_elements_by_xpath(xpth)\n",
    "    \n",
    "    def click(self, xpth=\"$%&\"):\n",
    "        if xpth != \"$%&\":\n",
    "            tmp = self.driver.find_element_by_xpath(xpth)\n",
    "            tmp.click()\n",
    "            time.sleep(random.randrange(2,4))\n",
    "        else:\n",
    "            self.target.click()\n",
    "            time.sleep(random.randrange(2,4))\n",
    "    \n",
    "    def send(self, key, xpth=\"$%&\"):\n",
    "        if xpth != \"$%&\":\n",
    "            tmp = self.driver.find_element_by_xpath(xpth)\n",
    "            tmp.send_keys(key)\n",
    "            time.sleep(random.randrange(2,4))\n",
    "        else:\n",
    "            self.target.send_keys(key)\n",
    "            time.sleep(random.randrange(2,4))\n",
    "    \n",
    "    def text(self, xpth=\"$%&\"):\n",
    "        if xpth != \"$%&\":\n",
    "            return self.driver.find_element_by_xpath(xpth).text\n",
    "        else:\n",
    "            return self.target.text.replace(' ','')\n",
    "    \n",
    "    def get_soup(self, html = '$%&'):\n",
    "        if html != '$%&':\n",
    "            res = requests.get(html)\n",
    "            self.soup = bs.BeautifulSoup(res.text, 'html.parser')\n",
    "            return self.soup\n",
    "        else:\n",
    "            html = self.driver.page_source\n",
    "            self.soup = bs(html, 'html.parser')\n",
    "            return self.soup\n",
    "\n",
    "    def soup_select(self, text):\n",
    "        return self.soup.select(text)\n",
    "    \n",
    "    def get_attribute(self, text):\n",
    "        return self.target.get_attribute(text)\n",
    "    \n",
    "    "
   ]
  },
  {
   "cell_type": "code",
   "execution_count": 40,
   "id": "4f8ec429",
   "metadata": {},
   "outputs": [
    {
     "data": {
      "text/html": [
       "<div>\n",
       "<style scoped>\n",
       "    .dataframe tbody tr th:only-of-type {\n",
       "        vertical-align: middle;\n",
       "    }\n",
       "\n",
       "    .dataframe tbody tr th {\n",
       "        vertical-align: top;\n",
       "    }\n",
       "\n",
       "    .dataframe thead th {\n",
       "        text-align: right;\n",
       "    }\n",
       "</style>\n",
       "<table border=\"1\" class=\"dataframe\">\n",
       "  <thead>\n",
       "    <tr style=\"text-align: right;\">\n",
       "      <th></th>\n",
       "      <th>회사</th>\n",
       "      <th>차종</th>\n",
       "      <th>모델</th>\n",
       "      <th>id</th>\n",
       "      <th>site</th>\n",
       "    </tr>\n",
       "  </thead>\n",
       "  <tbody>\n",
       "    <tr>\n",
       "      <th>0</th>\n",
       "      <td>현대</td>\n",
       "      <td>i30</td>\n",
       "      <td>i30(PD)(16~20)</td>\n",
       "      <td>30555229</td>\n",
       "      <td>encar</td>\n",
       "    </tr>\n",
       "    <tr>\n",
       "      <th>1</th>\n",
       "      <td>현대</td>\n",
       "      <td>i30</td>\n",
       "      <td>i30(PD)(16~20)</td>\n",
       "      <td>30554651</td>\n",
       "      <td>encar</td>\n",
       "    </tr>\n",
       "    <tr>\n",
       "      <th>2</th>\n",
       "      <td>현대</td>\n",
       "      <td>i30</td>\n",
       "      <td>i30(PD)(16~20)</td>\n",
       "      <td>29727605</td>\n",
       "      <td>encar</td>\n",
       "    </tr>\n",
       "    <tr>\n",
       "      <th>3</th>\n",
       "      <td>현대</td>\n",
       "      <td>i30</td>\n",
       "      <td>i30(PD)(16~20)</td>\n",
       "      <td>30316479</td>\n",
       "      <td>encar</td>\n",
       "    </tr>\n",
       "    <tr>\n",
       "      <th>4</th>\n",
       "      <td>현대</td>\n",
       "      <td>i30</td>\n",
       "      <td>i30(PD)(16~20)</td>\n",
       "      <td>30311314</td>\n",
       "      <td>encar</td>\n",
       "    </tr>\n",
       "    <tr>\n",
       "      <th>...</th>\n",
       "      <td>...</td>\n",
       "      <td>...</td>\n",
       "      <td>...</td>\n",
       "      <td>...</td>\n",
       "      <td>...</td>\n",
       "    </tr>\n",
       "    <tr>\n",
       "      <th>32793</th>\n",
       "      <td>기아</td>\n",
       "      <td>프라이드</td>\n",
       "      <td>올뉴프라이드(11~14)</td>\n",
       "      <td>60539105</td>\n",
       "      <td>kcar</td>\n",
       "    </tr>\n",
       "    <tr>\n",
       "      <th>32794</th>\n",
       "      <td>기아</td>\n",
       "      <td>프라이드</td>\n",
       "      <td>올뉴프라이드(11~14)</td>\n",
       "      <td>60526564</td>\n",
       "      <td>kcar</td>\n",
       "    </tr>\n",
       "    <tr>\n",
       "      <th>32795</th>\n",
       "      <td>기아</td>\n",
       "      <td>프라이드</td>\n",
       "      <td>올뉴프라이드(11~14)</td>\n",
       "      <td>60532834</td>\n",
       "      <td>kcar</td>\n",
       "    </tr>\n",
       "    <tr>\n",
       "      <th>32796</th>\n",
       "      <td>기아</td>\n",
       "      <td>프라이드</td>\n",
       "      <td>올뉴프라이드(11~14)</td>\n",
       "      <td>60534399</td>\n",
       "      <td>kcar</td>\n",
       "    </tr>\n",
       "    <tr>\n",
       "      <th>32797</th>\n",
       "      <td>기아</td>\n",
       "      <td>프라이드</td>\n",
       "      <td>올뉴프라이드(11~14)</td>\n",
       "      <td>60536881</td>\n",
       "      <td>kcar</td>\n",
       "    </tr>\n",
       "  </tbody>\n",
       "</table>\n",
       "<p>32798 rows × 5 columns</p>\n",
       "</div>"
      ],
      "text/plain": [
       "       회사    차종              모델        id   site\n",
       "0      현대   i30  i30(PD)(16~20)  30555229  encar\n",
       "1      현대   i30  i30(PD)(16~20)  30554651  encar\n",
       "2      현대   i30  i30(PD)(16~20)  29727605  encar\n",
       "3      현대   i30  i30(PD)(16~20)  30316479  encar\n",
       "4      현대   i30  i30(PD)(16~20)  30311314  encar\n",
       "...    ..   ...             ...       ...    ...\n",
       "32793  기아  프라이드   올뉴프라이드(11~14)  60539105   kcar\n",
       "32794  기아  프라이드   올뉴프라이드(11~14)  60526564   kcar\n",
       "32795  기아  프라이드   올뉴프라이드(11~14)  60532834   kcar\n",
       "32796  기아  프라이드   올뉴프라이드(11~14)  60534399   kcar\n",
       "32797  기아  프라이드   올뉴프라이드(11~14)  60536881   kcar\n",
       "\n",
       "[32798 rows x 5 columns]"
      ]
     },
     "execution_count": 40,
     "metadata": {},
     "output_type": "execute_result"
    }
   ],
   "source": [
    "id_df = pd.read_excel('id_df.xlsx', index_col = 0)\n",
    "id_df"
   ]
  },
  {
   "cell_type": "code",
   "execution_count": 41,
   "id": "6798fdd9",
   "metadata": {},
   "outputs": [
    {
     "name": "stderr",
     "output_type": "stream",
     "text": [
      "<ipython-input-41-eea42e4bc589>:5: TqdmDeprecationWarning: This function will be removed in tqdm==5.0.0\n",
      "Please use `tqdm.notebook.tqdm` instead of `tqdm.tqdm_notebook`\n",
      "  for i in tqdm_notebook(range(len(id_df.iloc[:10]))):\n"
     ]
    },
    {
     "data": {
      "application/vnd.jupyter.widget-view+json": {
       "model_id": "163fc807a209403b90927d52878380b4",
       "version_major": 2,
       "version_minor": 0
      },
      "text/plain": [
       "  0%|          | 0/10 [00:00<?, ?it/s]"
      ]
     },
     "metadata": {},
     "output_type": "display_data"
    }
   ],
   "source": [
    "import re\n",
    "\n",
    "spider = StupidSpider()\n",
    "\n",
    "for i in range(len(id_df)):\n",
    "    if id_df.loc[i]['site'] == 'kcar':\n",
    "        continue\n",
    "    id_ = id_df.loc[i]['id']\n",
    "    url = f\"http://www.encar.com/dc/dc_cardetailview.do?pageid=dc_carsearch&listAdvType=normal&carid={id_}\"\n",
    "    spider.move('http://www.encar.com/index.do')\n",
    "    spider.move(url)\n",
    "    time.sleep(2)\n",
    "    try: \n",
    "        spider.get('//*[@id=\"carPic\"]/img')\n",
    "    except:\n",
    "        try : \n",
    "            spider.get('//*[@id=\"carPic\"]/span/img')\n",
    "        except:\n",
    "            continue\n",
    "    url_ = spider.get_attribute('src')\n",
    "    id_regex = re.compile('[0-9]+_001.jpg')\n",
    "    id_ = id_regex.search(url_).group()\n",
    "    id_df.at[i, 'id'] = id_[:-8]"
   ]
  },
  {
   "cell_type": "code",
   "execution_count": 16,
   "id": "751df95b",
   "metadata": {},
   "outputs": [],
   "source": [
    "def save_used_car_img(loc):\n",
    "    loc['id'] = str(loc['id'])\n",
    "    if loc['site'] == 'encar':\n",
    "        for i in range(1,5):\n",
    "            if loc['id'][3] == '0':\n",
    "                tmp = '10'\n",
    "            else:\n",
    "                tmp = '0' + loc['id'][3]\n",
    "            url = f\"https://ci.encar.com/carpicture/carpicture{tmp}/pic{loc['id'][:4]}/{loc['id']}_00{i}.jpg\"\n",
    "            name = f\"{loc['회사']}/{loc['모델']}/{loc['id']}_{i}\"\n",
    "            try : \n",
    "                save_img(url, name)\n",
    "            except:\n",
    "                print(url)\n",
    "                return\n",
    "            \n",
    "    elif loc['site'] == 'encar':\n",
    "        for i in range(1,5):\n",
    "            if loc['id'][3] == '0':\n",
    "                tmp = '10'\n",
    "            else:\n",
    "                tmp = '0' + loc['id'][3]\n",
    "            url = f\"https://img.kcar.com/carpicture/carpicture{tmp}/pic{loc['id'][:4]}/kcar_{loc['id']}_00{i}.jpg\"\n",
    "            name = f\"{loc['회사']}/{loc['모델']}/{loc['id']}_{i}\"\n",
    "            try : \n",
    "                save_img(url, name)\n",
    "            except:\n",
    "                print(url)\n",
    "                return"
   ]
  },
  {
   "cell_type": "code",
   "execution_count": 17,
   "id": "2628dd2d",
   "metadata": {},
   "outputs": [
    {
     "name": "stderr",
     "output_type": "stream",
     "text": [
      "<ipython-input-17-d1730193efc4>:1: TqdmDeprecationWarning: This function will be removed in tqdm==5.0.0\n",
      "Please use `tqdm.notebook.tqdm` instead of `tqdm.tqdm_notebook`\n",
      "  for i in tqdm_notebook(range(len(id_df[1:10]))):\n"
     ]
    },
    {
     "data": {
      "application/vnd.jupyter.widget-view+json": {
       "model_id": "d3dba0b8f2c04cbf855cf7e1e9bac466",
       "version_major": 2,
       "version_minor": 0
      },
      "text/plain": [
       "  0%|          | 0/9 [00:00<?, ?it/s]"
      ]
     },
     "metadata": {},
     "output_type": "display_data"
    },
    {
     "name": "stderr",
     "output_type": "stream",
     "text": [
      "<ipython-input-16-9dd4f3e99371>:2: SettingWithCopyWarning: \n",
      "A value is trying to be set on a copy of a slice from a DataFrame\n",
      "\n",
      "See the caveats in the documentation: https://pandas.pydata.org/pandas-docs/stable/user_guide/indexing.html#returning-a-view-versus-a-copy\n",
      "  loc['id'] = str(loc['id'])\n"
     ]
    },
    {
     "name": "stdout",
     "output_type": "stream",
     "text": [
      "https://ci.encar.com/carpicture/carpicture05/pic3055/30555229_001.jpg\n",
      "https://ci.encar.com/carpicture/carpicture01/pic3031/30316479_001.jpg\n",
      "https://ci.encar.com/carpicture/carpicture03/pic3013/30133562_001.jpg\n",
      "https://ci.encar.com/carpicture/carpicture02/pic2902/29020109_001.jpg\n"
     ]
    }
   ],
   "source": [
    "for i in tqdm_notebook(range(len(id_df))):\n",
    "    save_used_car_img(id_df.loc[i])"
   ]
  }
 ],
 "metadata": {
  "kernelspec": {
   "display_name": "Python 3",
   "language": "python",
   "name": "python3"
  },
  "language_info": {
   "codemirror_mode": {
    "name": "ipython",
    "version": 3
   },
   "file_extension": ".py",
   "mimetype": "text/x-python",
   "name": "python",
   "nbconvert_exporter": "python",
   "pygments_lexer": "ipython3",
   "version": "3.8.8"
  }
 },
 "nbformat": 4,
 "nbformat_minor": 5
}
